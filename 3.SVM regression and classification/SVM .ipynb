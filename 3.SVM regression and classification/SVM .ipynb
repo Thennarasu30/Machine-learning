{
 "cells": [
  {
   "cell_type": "code",
   "execution_count": 5,
   "id": "9fced16a-f3d1-4d75-94a8-0e2500588a93",
   "metadata": {},
   "outputs": [],
   "source": [
    "import pandas as pd"
   ]
  },
  {
   "cell_type": "code",
   "execution_count": 7,
   "id": "6eded9cf-1aff-44d5-b602-12ffbc889781",
   "metadata": {},
   "outputs": [],
   "source": [
    "dataset = pd.read_csv(\"50_Startups.csv\")"
   ]
  },
  {
   "cell_type": "code",
   "execution_count": 9,
   "id": "06f23899-b7b3-4c35-adfe-8551b9a1d8eb",
   "metadata": {},
   "outputs": [
    {
     "name": "stdout",
     "output_type": "stream",
     "text": [
      "    R&D Spend  Administration  Marketing Spend       State     Profit\n",
      "0   165349.20       136897.80        471784.10    New York  192261.83\n",
      "1   162597.70       151377.59        443898.53  California  191792.06\n",
      "2   153441.51       101145.55        407934.54     Florida  191050.39\n",
      "3   144372.41       118671.85        383199.62    New York  182901.99\n",
      "4   142107.34        91391.77        366168.42     Florida  166187.94\n",
      "5   131876.90        99814.71        362861.36    New York  156991.12\n",
      "6   134615.46       147198.87        127716.82  California  156122.51\n",
      "7   130298.13       145530.06        323876.68     Florida  155752.60\n",
      "8   120542.52       148718.95        311613.29    New York  152211.77\n",
      "9   123334.88       108679.17        304981.62  California  149759.96\n",
      "10  101913.08       110594.11        229160.95     Florida  146121.95\n",
      "11  100671.96        91790.61        249744.55  California  144259.40\n",
      "12   93863.75       127320.38        249839.44     Florida  141585.52\n",
      "13   91992.39       135495.07        252664.93  California  134307.35\n",
      "14  119943.24       156547.42        256512.92     Florida  132602.65\n",
      "15  114523.61       122616.84        261776.23    New York  129917.04\n",
      "16   78013.11       121597.55        264346.06  California  126992.93\n",
      "17   94657.16       145077.58        282574.31    New York  125370.37\n",
      "18   91749.16       114175.79        294919.57     Florida  124266.90\n",
      "19   86419.70       153514.11             0.00    New York  122776.86\n",
      "20   76253.86       113867.30        298664.47  California  118474.03\n",
      "21   78389.47       153773.43        299737.29    New York  111313.02\n",
      "22   73994.56       122782.75        303319.26     Florida  110352.25\n",
      "23   67532.53       105751.03        304768.73     Florida  108733.99\n",
      "24   77044.01        99281.34        140574.81    New York  108552.04\n",
      "25   64664.71       139553.16        137962.62  California  107404.34\n",
      "26   75328.87       144135.98        134050.07     Florida  105733.54\n",
      "27   72107.60       127864.55        353183.81    New York  105008.31\n",
      "28   66051.52       182645.56        118148.20     Florida  103282.38\n",
      "29   65605.48       153032.06        107138.38    New York  101004.64\n",
      "30   61994.48       115641.28         91131.24     Florida   99937.59\n",
      "31   61136.38       152701.92         88218.23    New York   97483.56\n",
      "32   63408.86       129219.61         46085.25  California   97427.84\n",
      "33   55493.95       103057.49        214634.81     Florida   96778.92\n",
      "34   46426.07       157693.92        210797.67  California   96712.80\n",
      "35   46014.02        85047.44        205517.64    New York   96479.51\n",
      "36   28663.76       127056.21        201126.82     Florida   90708.19\n",
      "37   44069.95        51283.14        197029.42  California   89949.14\n",
      "38   20229.59        65947.93        185265.10    New York   81229.06\n",
      "39   38558.51        82982.09        174999.30  California   81005.76\n",
      "40   28754.33       118546.05        172795.67  California   78239.91\n",
      "41   27892.92        84710.77        164470.71     Florida   77798.83\n",
      "42   23640.93        96189.63        148001.11  California   71498.49\n",
      "43   15505.73       127382.30         35534.17    New York   69758.98\n",
      "44   22177.74       154806.14         28334.72  California   65200.33\n",
      "45    1000.23       124153.04          1903.93    New York   64926.08\n",
      "46    1315.46       115816.21        297114.46     Florida   49490.75\n",
      "47       0.00       135426.92             0.00  California   42559.73\n",
      "48     542.05        51743.15             0.00    New York   35673.41\n",
      "49       0.00       116983.80         45173.06  California   14681.40\n"
     ]
    }
   ],
   "source": [
    "print(dataset)"
   ]
  },
  {
   "cell_type": "code",
   "execution_count": 11,
   "id": "87d198a4-4468-4317-ba5b-27f769f543d2",
   "metadata": {},
   "outputs": [],
   "source": [
    "dataset=pd.get_dummies(dataset,drop_first=True)"
   ]
  },
  {
   "cell_type": "code",
   "execution_count": 13,
   "id": "47b1c0e9-e8dc-4fe7-b3d3-20fc015efa49",
   "metadata": {},
   "outputs": [
    {
     "name": "stdout",
     "output_type": "stream",
     "text": [
      "    R&D Spend  Administration  Marketing Spend     Profit  State_Florida  \\\n",
      "0   165349.20       136897.80        471784.10  192261.83          False   \n",
      "1   162597.70       151377.59        443898.53  191792.06          False   \n",
      "2   153441.51       101145.55        407934.54  191050.39           True   \n",
      "3   144372.41       118671.85        383199.62  182901.99          False   \n",
      "4   142107.34        91391.77        366168.42  166187.94           True   \n",
      "5   131876.90        99814.71        362861.36  156991.12          False   \n",
      "6   134615.46       147198.87        127716.82  156122.51          False   \n",
      "7   130298.13       145530.06        323876.68  155752.60           True   \n",
      "8   120542.52       148718.95        311613.29  152211.77          False   \n",
      "9   123334.88       108679.17        304981.62  149759.96          False   \n",
      "10  101913.08       110594.11        229160.95  146121.95           True   \n",
      "11  100671.96        91790.61        249744.55  144259.40          False   \n",
      "12   93863.75       127320.38        249839.44  141585.52           True   \n",
      "13   91992.39       135495.07        252664.93  134307.35          False   \n",
      "14  119943.24       156547.42        256512.92  132602.65           True   \n",
      "15  114523.61       122616.84        261776.23  129917.04          False   \n",
      "16   78013.11       121597.55        264346.06  126992.93          False   \n",
      "17   94657.16       145077.58        282574.31  125370.37          False   \n",
      "18   91749.16       114175.79        294919.57  124266.90           True   \n",
      "19   86419.70       153514.11             0.00  122776.86          False   \n",
      "20   76253.86       113867.30        298664.47  118474.03          False   \n",
      "21   78389.47       153773.43        299737.29  111313.02          False   \n",
      "22   73994.56       122782.75        303319.26  110352.25           True   \n",
      "23   67532.53       105751.03        304768.73  108733.99           True   \n",
      "24   77044.01        99281.34        140574.81  108552.04          False   \n",
      "25   64664.71       139553.16        137962.62  107404.34          False   \n",
      "26   75328.87       144135.98        134050.07  105733.54           True   \n",
      "27   72107.60       127864.55        353183.81  105008.31          False   \n",
      "28   66051.52       182645.56        118148.20  103282.38           True   \n",
      "29   65605.48       153032.06        107138.38  101004.64          False   \n",
      "30   61994.48       115641.28         91131.24   99937.59           True   \n",
      "31   61136.38       152701.92         88218.23   97483.56          False   \n",
      "32   63408.86       129219.61         46085.25   97427.84          False   \n",
      "33   55493.95       103057.49        214634.81   96778.92           True   \n",
      "34   46426.07       157693.92        210797.67   96712.80          False   \n",
      "35   46014.02        85047.44        205517.64   96479.51          False   \n",
      "36   28663.76       127056.21        201126.82   90708.19           True   \n",
      "37   44069.95        51283.14        197029.42   89949.14          False   \n",
      "38   20229.59        65947.93        185265.10   81229.06          False   \n",
      "39   38558.51        82982.09        174999.30   81005.76          False   \n",
      "40   28754.33       118546.05        172795.67   78239.91          False   \n",
      "41   27892.92        84710.77        164470.71   77798.83           True   \n",
      "42   23640.93        96189.63        148001.11   71498.49          False   \n",
      "43   15505.73       127382.30         35534.17   69758.98          False   \n",
      "44   22177.74       154806.14         28334.72   65200.33          False   \n",
      "45    1000.23       124153.04          1903.93   64926.08          False   \n",
      "46    1315.46       115816.21        297114.46   49490.75           True   \n",
      "47       0.00       135426.92             0.00   42559.73          False   \n",
      "48     542.05        51743.15             0.00   35673.41          False   \n",
      "49       0.00       116983.80         45173.06   14681.40          False   \n",
      "\n",
      "    State_New York  \n",
      "0             True  \n",
      "1            False  \n",
      "2            False  \n",
      "3             True  \n",
      "4            False  \n",
      "5             True  \n",
      "6            False  \n",
      "7            False  \n",
      "8             True  \n",
      "9            False  \n",
      "10           False  \n",
      "11           False  \n",
      "12           False  \n",
      "13           False  \n",
      "14           False  \n",
      "15            True  \n",
      "16           False  \n",
      "17            True  \n",
      "18           False  \n",
      "19            True  \n",
      "20           False  \n",
      "21            True  \n",
      "22           False  \n",
      "23           False  \n",
      "24            True  \n",
      "25           False  \n",
      "26           False  \n",
      "27            True  \n",
      "28           False  \n",
      "29            True  \n",
      "30           False  \n",
      "31            True  \n",
      "32           False  \n",
      "33           False  \n",
      "34           False  \n",
      "35            True  \n",
      "36           False  \n",
      "37           False  \n",
      "38            True  \n",
      "39           False  \n",
      "40           False  \n",
      "41           False  \n",
      "42           False  \n",
      "43            True  \n",
      "44           False  \n",
      "45            True  \n",
      "46           False  \n",
      "47           False  \n",
      "48            True  \n",
      "49           False  \n"
     ]
    }
   ],
   "source": [
    "print(dataset)"
   ]
  },
  {
   "cell_type": "code",
   "execution_count": 15,
   "id": "370992df-1188-4552-aaf6-231f99441d1a",
   "metadata": {},
   "outputs": [
    {
     "data": {
      "text/plain": [
       "Index(['R&D Spend', 'Administration', 'Marketing Spend', 'Profit',\n",
       "       'State_Florida', 'State_New York'],\n",
       "      dtype='object')"
      ]
     },
     "execution_count": 15,
     "metadata": {},
     "output_type": "execute_result"
    }
   ],
   "source": [
    "dataset.columns"
   ]
  },
  {
   "cell_type": "code",
   "execution_count": 17,
   "id": "4feb9ce0-7f37-4120-9d5e-b3ee9ec21f69",
   "metadata": {},
   "outputs": [],
   "source": [
    "independent = dataset[['R&D Spend', 'Administration', 'Marketing Spend','State_Florida', 'State_New York']]"
   ]
  },
  {
   "cell_type": "code",
   "execution_count": 19,
   "id": "43d549a2-c07b-4504-b075-5349e45f43b0",
   "metadata": {},
   "outputs": [],
   "source": [
    "dependent = dataset[[\"Profit\"]]"
   ]
  },
  {
   "cell_type": "code",
   "execution_count": 21,
   "id": "4b2a2730-6b85-4c06-88e2-b738f4902d5b",
   "metadata": {},
   "outputs": [],
   "source": [
    "from sklearn.model_selection import train_test_split\n",
    "x_train, x_test, y_train, y_test = train_test_split(\n",
    "    independent, dependent, test_size=0.30, random_state=0\n",
    ")"
   ]
  },
  {
   "cell_type": "code",
   "execution_count": null,
   "id": "5e9e9398-0c51-4235-82a3-94af922d26b8",
   "metadata": {},
   "outputs": [
    {
     "name": "stderr",
     "output_type": "stream",
     "text": [
      "C:\\Anaconda\\Lib\\site-packages\\sklearn\\utils\\validation.py:1339: DataConversionWarning: A column-vector y was passed when a 1d array was expected. Please change the shape of y to (n_samples, ), for example using ravel().\n",
      "  y = column_or_1d(y, warn=True)\n"
     ]
    }
   ],
   "source": [
    "from sklearn.svm import SVR\n",
    "\n",
    "regressor = SVR(kernel=\"linear\", C=3000)\n",
    "regressor.fit(x_train, y_train)\n",
    "print(regressor)"
   ]
  },
  {
   "cell_type": "code",
   "execution_count": null,
   "id": "f722e289-e79e-4f84-8566-1edec319cc61",
   "metadata": {},
   "outputs": [],
   "source": [
    "regressor.intercept_"
   ]
  },
  {
   "cell_type": "code",
   "execution_count": null,
   "id": "90245d0c-f247-4280-89b2-bf4c5a0eec8d",
   "metadata": {},
   "outputs": [],
   "source": [
    "regressor.n_support_"
   ]
  },
  {
   "cell_type": "code",
   "execution_count": null,
   "id": "d7df6e23-4837-444d-acf5-e226f7516077",
   "metadata": {},
   "outputs": [],
   "source": [
    "regressor.support_"
   ]
  },
  {
   "cell_type": "code",
   "execution_count": null,
   "id": "cac73a39-f61a-416b-960b-26ba6228c463",
   "metadata": {},
   "outputs": [],
   "source": [
    "y_pred = regressor.predict(x_test)"
   ]
  },
  {
   "cell_type": "code",
   "execution_count": null,
   "id": "7f955646-ebb7-454d-af40-cf9b36d2d8ee",
   "metadata": {},
   "outputs": [],
   "source": [
    "from sklearn.metrics import r2_score\n",
    "r_score =r2_score(y_test,y_pred) "
   ]
  },
  {
   "cell_type": "code",
   "execution_count": null,
   "id": "88eea7b5-c83c-49ba-a426-fedb9f4c2316",
   "metadata": {},
   "outputs": [],
   "source": [
    "r_score"
   ]
  },
  {
   "cell_type": "code",
   "execution_count": null,
   "id": "30a28524-64b9-4c47-b7b0-e9af6d70bdde",
   "metadata": {},
   "outputs": [],
   "source": []
  },
  {
   "cell_type": "code",
   "execution_count": null,
   "id": "6b44cfa1-e537-42bc-8200-02b225713ad3",
   "metadata": {},
   "outputs": [],
   "source": []
  }
 ],
 "metadata": {
  "kernelspec": {
   "display_name": "Python [conda env:base] *",
   "language": "python",
   "name": "conda-base-py"
  },
  "language_info": {
   "codemirror_mode": {
    "name": "ipython",
    "version": 3
   },
   "file_extension": ".py",
   "mimetype": "text/x-python",
   "name": "python",
   "nbconvert_exporter": "python",
   "pygments_lexer": "ipython3",
   "version": "3.12.7"
  }
 },
 "nbformat": 4,
 "nbformat_minor": 5
}
