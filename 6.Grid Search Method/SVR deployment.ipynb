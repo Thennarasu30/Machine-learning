{
 "cells": [
  {
   "cell_type": "code",
   "execution_count": 5,
   "id": "90a24253-9455-4f27-a715-25c9af7e705f",
   "metadata": {},
   "outputs": [
    {
     "name": "stdin",
     "output_type": "stream",
     "text": [
      "Age 20\n",
      "BMI 35\n",
      "children 0\n",
      "Sex male 0 or 1 0\n",
      "smoker yes 0 or 1 1\n"
     ]
    },
    {
     "name": "stdout",
     "output_type": "stream",
     "text": [
      "[102768.97952222]\n"
     ]
    }
   ],
   "source": [
    "import pickle\n",
    "\n",
    "age_input=float(input(\"Age\"))\n",
    "bmi_input=float(input(\"BMI\"))\n",
    "children_input=float(input(\"children\"))\n",
    "sex_male_input=int(input(\"Sex male 0 or 1\"))\n",
    "smoker_yes_input=int(input(\"smoker yes 0 or 1\"))\n",
    "\n",
    "loaded_model=pickle.load(open(\"Finalised_grid_search.sav\",'rb'))\n",
    "\n",
    "result=loaded_model.predict([[age_input,bmi_input,children_input,sex_male_input,smoker_yes_input]])\n",
    "print(result)"
   ]
  },
  {
   "cell_type": "code",
   "execution_count": null,
   "id": "701047bf-f738-4a4c-a98e-2f9b00493573",
   "metadata": {},
   "outputs": [],
   "source": []
  }
 ],
 "metadata": {
  "kernelspec": {
   "display_name": "Python [conda env:base] *",
   "language": "python",
   "name": "conda-base-py"
  },
  "language_info": {
   "codemirror_mode": {
    "name": "ipython",
    "version": 3
   },
   "file_extension": ".py",
   "mimetype": "text/x-python",
   "name": "python",
   "nbconvert_exporter": "python",
   "pygments_lexer": "ipython3",
   "version": "3.12.7"
  }
 },
 "nbformat": 4,
 "nbformat_minor": 5
}
