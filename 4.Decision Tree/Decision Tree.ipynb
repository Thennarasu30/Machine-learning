{
 "cells": [
  {
   "cell_type": "code",
   "execution_count": 1,
   "id": "f8016531-bb34-40f9-afb9-009a8e63035e",
   "metadata": {},
   "outputs": [],
   "source": [
    "import pandas as pd"
   ]
  },
  {
   "cell_type": "code",
   "execution_count": 3,
   "id": "09a63c94-7cfb-4e85-ad38-793d4a819abf",
   "metadata": {},
   "outputs": [
    {
     "name": "stdout",
     "output_type": "stream",
     "text": [
      "    R&D Spend  Administration  Marketing Spend       State     Profit\n",
      "0   165349.20       136897.80        471784.10    New York  192261.83\n",
      "1   162597.70       151377.59        443898.53  California  191792.06\n",
      "2   153441.51       101145.55        407934.54     Florida  191050.39\n",
      "3   144372.41       118671.85        383199.62    New York  182901.99\n",
      "4   142107.34        91391.77        366168.42     Florida  166187.94\n",
      "5   131876.90        99814.71        362861.36    New York  156991.12\n",
      "6   134615.46       147198.87        127716.82  California  156122.51\n",
      "7   130298.13       145530.06        323876.68     Florida  155752.60\n",
      "8   120542.52       148718.95        311613.29    New York  152211.77\n",
      "9   123334.88       108679.17        304981.62  California  149759.96\n",
      "10  101913.08       110594.11        229160.95     Florida  146121.95\n",
      "11  100671.96        91790.61        249744.55  California  144259.40\n",
      "12   93863.75       127320.38        249839.44     Florida  141585.52\n",
      "13   91992.39       135495.07        252664.93  California  134307.35\n",
      "14  119943.24       156547.42        256512.92     Florida  132602.65\n",
      "15  114523.61       122616.84        261776.23    New York  129917.04\n",
      "16   78013.11       121597.55        264346.06  California  126992.93\n",
      "17   94657.16       145077.58        282574.31    New York  125370.37\n",
      "18   91749.16       114175.79        294919.57     Florida  124266.90\n",
      "19   86419.70       153514.11             0.00    New York  122776.86\n",
      "20   76253.86       113867.30        298664.47  California  118474.03\n",
      "21   78389.47       153773.43        299737.29    New York  111313.02\n",
      "22   73994.56       122782.75        303319.26     Florida  110352.25\n",
      "23   67532.53       105751.03        304768.73     Florida  108733.99\n",
      "24   77044.01        99281.34        140574.81    New York  108552.04\n",
      "25   64664.71       139553.16        137962.62  California  107404.34\n",
      "26   75328.87       144135.98        134050.07     Florida  105733.54\n",
      "27   72107.60       127864.55        353183.81    New York  105008.31\n",
      "28   66051.52       182645.56        118148.20     Florida  103282.38\n",
      "29   65605.48       153032.06        107138.38    New York  101004.64\n",
      "30   61994.48       115641.28         91131.24     Florida   99937.59\n",
      "31   61136.38       152701.92         88218.23    New York   97483.56\n",
      "32   63408.86       129219.61         46085.25  California   97427.84\n",
      "33   55493.95       103057.49        214634.81     Florida   96778.92\n",
      "34   46426.07       157693.92        210797.67  California   96712.80\n",
      "35   46014.02        85047.44        205517.64    New York   96479.51\n",
      "36   28663.76       127056.21        201126.82     Florida   90708.19\n",
      "37   44069.95        51283.14        197029.42  California   89949.14\n",
      "38   20229.59        65947.93        185265.10    New York   81229.06\n",
      "39   38558.51        82982.09        174999.30  California   81005.76\n",
      "40   28754.33       118546.05        172795.67  California   78239.91\n",
      "41   27892.92        84710.77        164470.71     Florida   77798.83\n",
      "42   23640.93        96189.63        148001.11  California   71498.49\n",
      "43   15505.73       127382.30         35534.17    New York   69758.98\n",
      "44   22177.74       154806.14         28334.72  California   65200.33\n",
      "45    1000.23       124153.04          1903.93    New York   64926.08\n",
      "46    1315.46       115816.21        297114.46     Florida   49490.75\n",
      "47       0.00       135426.92             0.00  California   42559.73\n",
      "48     542.05        51743.15             0.00    New York   35673.41\n",
      "49       0.00       116983.80         45173.06  California   14681.40\n"
     ]
    }
   ],
   "source": [
    "dataset = pd.read_csv(\"50_Startups.csv\")\n",
    "print(dataset)"
   ]
  },
  {
   "cell_type": "code",
   "execution_count": 7,
   "id": "b274b0ec-2027-43b5-a885-23eaf0304c1b",
   "metadata": {},
   "outputs": [
    {
     "name": "stdout",
     "output_type": "stream",
     "text": [
      "    R&D Spend  Administration  Marketing Spend     Profit  State_Florida  \\\n",
      "0   165349.20       136897.80        471784.10  192261.83          False   \n",
      "1   162597.70       151377.59        443898.53  191792.06          False   \n",
      "2   153441.51       101145.55        407934.54  191050.39           True   \n",
      "3   144372.41       118671.85        383199.62  182901.99          False   \n",
      "4   142107.34        91391.77        366168.42  166187.94           True   \n",
      "5   131876.90        99814.71        362861.36  156991.12          False   \n",
      "6   134615.46       147198.87        127716.82  156122.51          False   \n",
      "7   130298.13       145530.06        323876.68  155752.60           True   \n",
      "8   120542.52       148718.95        311613.29  152211.77          False   \n",
      "9   123334.88       108679.17        304981.62  149759.96          False   \n",
      "10  101913.08       110594.11        229160.95  146121.95           True   \n",
      "11  100671.96        91790.61        249744.55  144259.40          False   \n",
      "12   93863.75       127320.38        249839.44  141585.52           True   \n",
      "13   91992.39       135495.07        252664.93  134307.35          False   \n",
      "14  119943.24       156547.42        256512.92  132602.65           True   \n",
      "15  114523.61       122616.84        261776.23  129917.04          False   \n",
      "16   78013.11       121597.55        264346.06  126992.93          False   \n",
      "17   94657.16       145077.58        282574.31  125370.37          False   \n",
      "18   91749.16       114175.79        294919.57  124266.90           True   \n",
      "19   86419.70       153514.11             0.00  122776.86          False   \n",
      "20   76253.86       113867.30        298664.47  118474.03          False   \n",
      "21   78389.47       153773.43        299737.29  111313.02          False   \n",
      "22   73994.56       122782.75        303319.26  110352.25           True   \n",
      "23   67532.53       105751.03        304768.73  108733.99           True   \n",
      "24   77044.01        99281.34        140574.81  108552.04          False   \n",
      "25   64664.71       139553.16        137962.62  107404.34          False   \n",
      "26   75328.87       144135.98        134050.07  105733.54           True   \n",
      "27   72107.60       127864.55        353183.81  105008.31          False   \n",
      "28   66051.52       182645.56        118148.20  103282.38           True   \n",
      "29   65605.48       153032.06        107138.38  101004.64          False   \n",
      "30   61994.48       115641.28         91131.24   99937.59           True   \n",
      "31   61136.38       152701.92         88218.23   97483.56          False   \n",
      "32   63408.86       129219.61         46085.25   97427.84          False   \n",
      "33   55493.95       103057.49        214634.81   96778.92           True   \n",
      "34   46426.07       157693.92        210797.67   96712.80          False   \n",
      "35   46014.02        85047.44        205517.64   96479.51          False   \n",
      "36   28663.76       127056.21        201126.82   90708.19           True   \n",
      "37   44069.95        51283.14        197029.42   89949.14          False   \n",
      "38   20229.59        65947.93        185265.10   81229.06          False   \n",
      "39   38558.51        82982.09        174999.30   81005.76          False   \n",
      "40   28754.33       118546.05        172795.67   78239.91          False   \n",
      "41   27892.92        84710.77        164470.71   77798.83           True   \n",
      "42   23640.93        96189.63        148001.11   71498.49          False   \n",
      "43   15505.73       127382.30         35534.17   69758.98          False   \n",
      "44   22177.74       154806.14         28334.72   65200.33          False   \n",
      "45    1000.23       124153.04          1903.93   64926.08          False   \n",
      "46    1315.46       115816.21        297114.46   49490.75           True   \n",
      "47       0.00       135426.92             0.00   42559.73          False   \n",
      "48     542.05        51743.15             0.00   35673.41          False   \n",
      "49       0.00       116983.80         45173.06   14681.40          False   \n",
      "\n",
      "    State_New York  \n",
      "0             True  \n",
      "1            False  \n",
      "2            False  \n",
      "3             True  \n",
      "4            False  \n",
      "5             True  \n",
      "6            False  \n",
      "7            False  \n",
      "8             True  \n",
      "9            False  \n",
      "10           False  \n",
      "11           False  \n",
      "12           False  \n",
      "13           False  \n",
      "14           False  \n",
      "15            True  \n",
      "16           False  \n",
      "17            True  \n",
      "18           False  \n",
      "19            True  \n",
      "20           False  \n",
      "21            True  \n",
      "22           False  \n",
      "23           False  \n",
      "24            True  \n",
      "25           False  \n",
      "26           False  \n",
      "27            True  \n",
      "28           False  \n",
      "29            True  \n",
      "30           False  \n",
      "31            True  \n",
      "32           False  \n",
      "33           False  \n",
      "34           False  \n",
      "35            True  \n",
      "36           False  \n",
      "37           False  \n",
      "38            True  \n",
      "39           False  \n",
      "40           False  \n",
      "41           False  \n",
      "42           False  \n",
      "43            True  \n",
      "44           False  \n",
      "45            True  \n",
      "46           False  \n",
      "47           False  \n",
      "48            True  \n",
      "49           False  \n"
     ]
    }
   ],
   "source": [
    "dataset = pd.get_dummies (dataset ,drop_first=True)\n",
    "print(dataset)"
   ]
  },
  {
   "cell_type": "code",
   "execution_count": 9,
   "id": "ccd27317-d5ff-4d73-ab94-55ec3f5d8fd4",
   "metadata": {},
   "outputs": [
    {
     "data": {
      "text/plain": [
       "Index(['R&D Spend', 'Administration', 'Marketing Spend', 'Profit',\n",
       "       'State_Florida', 'State_New York'],\n",
       "      dtype='object')"
      ]
     },
     "execution_count": 9,
     "metadata": {},
     "output_type": "execute_result"
    }
   ],
   "source": [
    "dataset.columns"
   ]
  },
  {
   "cell_type": "code",
   "execution_count": 11,
   "id": "7cdfe09f-5fd6-417f-b8eb-68c1bdeedce2",
   "metadata": {},
   "outputs": [
    {
     "name": "stdout",
     "output_type": "stream",
     "text": [
      "    R&D Spend  Administration  Marketing Spend  State_Florida  State_New York\n",
      "0   165349.20       136897.80        471784.10          False            True\n",
      "1   162597.70       151377.59        443898.53          False           False\n",
      "2   153441.51       101145.55        407934.54           True           False\n",
      "3   144372.41       118671.85        383199.62          False            True\n",
      "4   142107.34        91391.77        366168.42           True           False\n",
      "5   131876.90        99814.71        362861.36          False            True\n",
      "6   134615.46       147198.87        127716.82          False           False\n",
      "7   130298.13       145530.06        323876.68           True           False\n",
      "8   120542.52       148718.95        311613.29          False            True\n",
      "9   123334.88       108679.17        304981.62          False           False\n",
      "10  101913.08       110594.11        229160.95           True           False\n",
      "11  100671.96        91790.61        249744.55          False           False\n",
      "12   93863.75       127320.38        249839.44           True           False\n",
      "13   91992.39       135495.07        252664.93          False           False\n",
      "14  119943.24       156547.42        256512.92           True           False\n",
      "15  114523.61       122616.84        261776.23          False            True\n",
      "16   78013.11       121597.55        264346.06          False           False\n",
      "17   94657.16       145077.58        282574.31          False            True\n",
      "18   91749.16       114175.79        294919.57           True           False\n",
      "19   86419.70       153514.11             0.00          False            True\n",
      "20   76253.86       113867.30        298664.47          False           False\n",
      "21   78389.47       153773.43        299737.29          False            True\n",
      "22   73994.56       122782.75        303319.26           True           False\n",
      "23   67532.53       105751.03        304768.73           True           False\n",
      "24   77044.01        99281.34        140574.81          False            True\n",
      "25   64664.71       139553.16        137962.62          False           False\n",
      "26   75328.87       144135.98        134050.07           True           False\n",
      "27   72107.60       127864.55        353183.81          False            True\n",
      "28   66051.52       182645.56        118148.20           True           False\n",
      "29   65605.48       153032.06        107138.38          False            True\n",
      "30   61994.48       115641.28         91131.24           True           False\n",
      "31   61136.38       152701.92         88218.23          False            True\n",
      "32   63408.86       129219.61         46085.25          False           False\n",
      "33   55493.95       103057.49        214634.81           True           False\n",
      "34   46426.07       157693.92        210797.67          False           False\n",
      "35   46014.02        85047.44        205517.64          False            True\n",
      "36   28663.76       127056.21        201126.82           True           False\n",
      "37   44069.95        51283.14        197029.42          False           False\n",
      "38   20229.59        65947.93        185265.10          False            True\n",
      "39   38558.51        82982.09        174999.30          False           False\n",
      "40   28754.33       118546.05        172795.67          False           False\n",
      "41   27892.92        84710.77        164470.71           True           False\n",
      "42   23640.93        96189.63        148001.11          False           False\n",
      "43   15505.73       127382.30         35534.17          False            True\n",
      "44   22177.74       154806.14         28334.72          False           False\n",
      "45    1000.23       124153.04          1903.93          False            True\n",
      "46    1315.46       115816.21        297114.46           True           False\n",
      "47       0.00       135426.92             0.00          False           False\n",
      "48     542.05        51743.15             0.00          False            True\n",
      "49       0.00       116983.80         45173.06          False           False\n"
     ]
    }
   ],
   "source": [
    "independent = dataset[['R&D Spend', 'Administration', 'Marketing Spend','State_Florida', 'State_New York']]\n",
    "print (independent)"
   ]
  },
  {
   "cell_type": "code",
   "execution_count": 13,
   "id": "e2610c8b-85d4-4c8a-9464-6e3e63594b8e",
   "metadata": {},
   "outputs": [
    {
     "name": "stdout",
     "output_type": "stream",
     "text": [
      "       Profit\n",
      "0   192261.83\n",
      "1   191792.06\n",
      "2   191050.39\n",
      "3   182901.99\n",
      "4   166187.94\n",
      "5   156991.12\n",
      "6   156122.51\n",
      "7   155752.60\n",
      "8   152211.77\n",
      "9   149759.96\n",
      "10  146121.95\n",
      "11  144259.40\n",
      "12  141585.52\n",
      "13  134307.35\n",
      "14  132602.65\n",
      "15  129917.04\n",
      "16  126992.93\n",
      "17  125370.37\n",
      "18  124266.90\n",
      "19  122776.86\n",
      "20  118474.03\n",
      "21  111313.02\n",
      "22  110352.25\n",
      "23  108733.99\n",
      "24  108552.04\n",
      "25  107404.34\n",
      "26  105733.54\n",
      "27  105008.31\n",
      "28  103282.38\n",
      "29  101004.64\n",
      "30   99937.59\n",
      "31   97483.56\n",
      "32   97427.84\n",
      "33   96778.92\n",
      "34   96712.80\n",
      "35   96479.51\n",
      "36   90708.19\n",
      "37   89949.14\n",
      "38   81229.06\n",
      "39   81005.76\n",
      "40   78239.91\n",
      "41   77798.83\n",
      "42   71498.49\n",
      "43   69758.98\n",
      "44   65200.33\n",
      "45   64926.08\n",
      "46   49490.75\n",
      "47   42559.73\n",
      "48   35673.41\n",
      "49   14681.40\n"
     ]
    }
   ],
   "source": [
    "dependent = dataset[[\"Profit\"]]\n",
    "print(dependent)"
   ]
  },
  {
   "cell_type": "code",
   "execution_count": 18,
   "id": "84a6af35-bf44-430f-9ff8-e78f398e90a2",
   "metadata": {},
   "outputs": [],
   "source": [
    "from sklearn.model_selection import train_test_split\n",
    "x_train,x_test,y_train,y_test = train_test_split(independent ,dependent, test_size=0.30,random_state=0)"
   ]
  },
  {
   "cell_type": "code",
   "execution_count": 20,
   "id": "0aaacbe6-ecb9-460a-8674-f636a27a3760",
   "metadata": {},
   "outputs": [
    {
     "name": "stdout",
     "output_type": "stream",
     "text": [
      "    R&D Spend  Administration  Marketing Spend  State_Florida  State_New York\n",
      "7   130298.13       145530.06        323876.68           True           False\n",
      "14  119943.24       156547.42        256512.92           True           False\n",
      "45    1000.23       124153.04          1903.93          False            True\n",
      "48     542.05        51743.15             0.00          False            True\n",
      "29   65605.48       153032.06        107138.38          False            True\n",
      "15  114523.61       122616.84        261776.23          False            True\n",
      "30   61994.48       115641.28         91131.24           True           False\n",
      "32   63408.86       129219.61         46085.25          False           False\n",
      "16   78013.11       121597.55        264346.06          False           False\n",
      "42   23640.93        96189.63        148001.11          False           False\n",
      "20   76253.86       113867.30        298664.47          False           False\n",
      "43   15505.73       127382.30         35534.17          False            True\n",
      "8   120542.52       148718.95        311613.29          False            True\n",
      "13   91992.39       135495.07        252664.93          False           False\n",
      "25   64664.71       139553.16        137962.62          False           False\n",
      "5   131876.90        99814.71        362861.36          False            True\n",
      "17   94657.16       145077.58        282574.31          False            True\n",
      "40   28754.33       118546.05        172795.67          False           False\n",
      "49       0.00       116983.80         45173.06          False           False\n",
      "1   162597.70       151377.59        443898.53          False           False\n",
      "12   93863.75       127320.38        249839.44           True           False\n",
      "37   44069.95        51283.14        197029.42          False           False\n",
      "24   77044.01        99281.34        140574.81          False            True\n",
      "6   134615.46       147198.87        127716.82          False           False\n",
      "23   67532.53       105751.03        304768.73           True           False\n",
      "36   28663.76       127056.21        201126.82           True           False\n",
      "21   78389.47       153773.43        299737.29          False            True\n",
      "19   86419.70       153514.11             0.00          False            True\n",
      "9   123334.88       108679.17        304981.62          False           False\n",
      "39   38558.51        82982.09        174999.30          False           False\n",
      "46    1315.46       115816.21        297114.46           True           False\n",
      "3   144372.41       118671.85        383199.62          False            True\n",
      "0   165349.20       136897.80        471784.10          False            True\n",
      "47       0.00       135426.92             0.00          False           False\n",
      "44   22177.74       154806.14         28334.72          False           False\n",
      "       Profit\n",
      "7   155752.60\n",
      "14  132602.65\n",
      "45   64926.08\n",
      "48   35673.41\n",
      "29  101004.64\n",
      "15  129917.04\n",
      "30   99937.59\n",
      "32   97427.84\n",
      "16  126992.93\n",
      "42   71498.49\n",
      "20  118474.03\n",
      "43   69758.98\n",
      "8   152211.77\n",
      "13  134307.35\n",
      "25  107404.34\n",
      "5   156991.12\n",
      "17  125370.37\n",
      "40   78239.91\n",
      "49   14681.40\n",
      "1   191792.06\n",
      "12  141585.52\n",
      "37   89949.14\n",
      "24  108552.04\n",
      "6   156122.51\n",
      "23  108733.99\n",
      "36   90708.19\n",
      "21  111313.02\n",
      "19  122776.86\n",
      "9   149759.96\n",
      "39   81005.76\n",
      "46   49490.75\n",
      "3   182901.99\n",
      "0   192261.83\n",
      "47   42559.73\n",
      "44   65200.33\n",
      "    R&D Spend  Administration  Marketing Spend  State_Florida  State_New York\n",
      "28   66051.52       182645.56        118148.20           True           False\n",
      "11  100671.96        91790.61        249744.55          False           False\n",
      "10  101913.08       110594.11        229160.95           True           False\n",
      "41   27892.92        84710.77        164470.71           True           False\n",
      "2   153441.51       101145.55        407934.54           True           False\n",
      "27   72107.60       127864.55        353183.81          False            True\n",
      "38   20229.59        65947.93        185265.10          False            True\n",
      "31   61136.38       152701.92         88218.23          False            True\n",
      "22   73994.56       122782.75        303319.26           True           False\n",
      "4   142107.34        91391.77        366168.42           True           False\n",
      "33   55493.95       103057.49        214634.81           True           False\n",
      "35   46014.02        85047.44        205517.64          False            True\n",
      "26   75328.87       144135.98        134050.07           True           False\n",
      "34   46426.07       157693.92        210797.67          False           False\n",
      "18   91749.16       114175.79        294919.57           True           False\n",
      "       Profit\n",
      "28  103282.38\n",
      "11  144259.40\n",
      "10  146121.95\n",
      "41   77798.83\n",
      "2   191050.39\n",
      "27  105008.31\n",
      "38   81229.06\n",
      "31   97483.56\n",
      "22  110352.25\n",
      "4   166187.94\n",
      "33   96778.92\n",
      "35   96479.51\n",
      "26  105733.54\n",
      "34   96712.80\n",
      "18  124266.90\n"
     ]
    }
   ],
   "source": [
    "print(x_train)\n",
    "print(y_train)\n",
    "print(x_test)\n",
    "print(y_test)"
   ]
  },
  {
   "cell_type": "code",
   "execution_count": 231,
   "id": "2ba47464-9d59-43ee-a7dc-b8f067249f5b",
   "metadata": {},
   "outputs": [
    {
     "name": "stdout",
     "output_type": "stream",
     "text": [
      "DecisionTreeRegressor(criterion='friedman_mse', max_features='log2',\n",
      "                      splitter='random')\n"
     ]
    }
   ],
   "source": [
    "from sklearn.tree import DecisionTreeRegressor\n",
    "regressor = DecisionTreeRegressor(criterion='friedman_mse',max_features ='log2',splitter='random')\n",
    "regressor =regressor.fit(x_train,y_train)\n",
    "print(regressor)"
   ]
  },
  {
   "cell_type": "code",
   "execution_count": 233,
   "id": "8bba4a66-3ce9-458e-934f-0907f9885db8",
   "metadata": {},
   "outputs": [
    {
     "data": {
      "image/png": "[encoded data removed]",
      "text/plain": [
       "<Figure size 640x480 with 1 Axes>"
      ]
     },
     "metadata": {},
     "output_type": "display_data"
    }
   ],
   "source": [
    "import matplotlib.pyplot as plt \n",
    "from sklearn import tree\n",
    "tree.plot_tree(regressor)\n",
    "plt.show()"
   ]
  },
  {
   "cell_type": "code",
   "execution_count": 234,
   "id": "251cd9a2-6c36-49ec-af2f-21c398e862f5",
   "metadata": {},
   "outputs": [],
   "source": [
    "y_pred = regressor.predict(x_test)"
   ]
  },
  {
   "cell_type": "code",
   "execution_count": 235,
   "id": "4de22e5c-3eb9-4186-a8bb-c25d1aa60764",
   "metadata": {},
   "outputs": [
    {
     "name": "stdout",
     "output_type": "stream",
     "text": [
      "[101004.64 141585.52 141585.52  90708.19 156991.12 182901.99  81005.76\n",
      " 101004.64 118474.03 156991.12  90708.19  81005.76 156122.51  81005.76\n",
      " 149759.96]\n"
     ]
    }
   ],
   "source": [
    "print(y_pred)"
   ]
  },
  {
   "cell_type": "code",
   "execution_count": 239,
   "id": "3aa58710-cc0c-416d-bd48-adc71605777c",
   "metadata": {
    "scrolled": true
   },
   "outputs": [
    {
     "name": "stdout",
     "output_type": "stream",
     "text": [
      "0.21940784968706395\n"
     ]
    }
   ],
   "source": [
    "from sklearn.metrics import r2_score\n",
    "r_score = r2_score(y_test,y_pred)\n",
    "print(r_score)"
   ]
  },
  {
   "cell_type": "code",
   "execution_count": null,
   "id": "40d08702-1353-43ed-94dc-8e7afd450695",
   "metadata": {},
   "outputs": [],
   "source": []
  },
  {
   "cell_type": "code",
   "execution_count": null,
   "id": "9e09a960-5166-4f0f-9edd-9031e77d99cf",
   "metadata": {},
   "outputs": [],
   "source": []
  }
 ],
 "metadata": {
  "kernelspec": {
   "display_name": "Python [conda env:base] *",
   "language": "python",
   "name": "conda-base-py"
  },
  "language_info": {
   "codemirror_mode": {
    "name": "ipython",
    "version": 3
   },
   "file_extension": ".py",
   "mimetype": "text/x-python",
   "name": "python",
   "nbconvert_exporter": "python",
   "pygments_lexer": "ipython3",
   "version": "3.12.7"
  }
 },
 "nbformat": 4,
 "nbformat_minor": 5
}
